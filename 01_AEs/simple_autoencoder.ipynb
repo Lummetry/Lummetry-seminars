{
 "cells": [
  {
   "cell_type": "code",
   "execution_count": null,
   "id": "c3d9eee6",
   "metadata": {},
   "outputs": [],
   "source": [
    "import torch as th\n",
    "import torchvision as tv\n",
    "import numpy as np\n",
    "import matplotlib.pyplot as plt\n",
    "%matplotlib inline"
   ]
  },
  {
   "cell_type": "code",
   "execution_count": null,
   "id": "272ad36e",
   "metadata": {},
   "outputs": [],
   "source": [
    "#pipeline = tv.transforms.Compose([tv.transforms.ToTensor(),tv.transforms.Lambda(lambda x: x.reshape(-1)),])\n",
    "#ds_train = tv.datasets.MNIST(root='.', transform=pipeline, download=True)\n",
    "#ds_test = tv.datasets.MNIST(root='.', train=False, transform=pipeline, download=True)\n",
    "ds_train = tv.datasets.MNIST(root='.', download=True)\n",
    "ds_test = tv.datasets.MNIST(root='.', train=False, download=True)"
   ]
  },
  {
   "cell_type": "code",
   "execution_count": null,
   "id": "99a4d211",
   "metadata": {},
   "outputs": [],
   "source": [
    "np_x_train = np.array([np.array(x[0]) for x in ds_train])\n",
    "np_x_test = np.array([np.array(x[0]) for x in ds_test])\n"
   ]
  },
  {
   "cell_type": "code",
   "execution_count": null,
   "id": "c5d862e1",
   "metadata": {},
   "outputs": [],
   "source": [
    "np_x_train = np_x_train / 255.\n",
    "np_x_test = np_x_test / 255."
   ]
  },
  {
   "cell_type": "code",
   "execution_count": null,
   "id": "298288e8",
   "metadata": {
    "scrolled": false
   },
   "outputs": [],
   "source": [
    "# re-prep the datasets\n",
    "ds_train = th.utils.data.TensorDataset(th.tensor(np_x_train.reshape(-1,28*28), device=th.device('cuda'), dtype=th.float32))\n",
    "ds_test = th.utils.data.TensorDataset(th.tensor(np_x_test.reshape(-1,28*28), device=th.device('cuda'), dtype=th.float32))"
   ]
  },
  {
   "cell_type": "code",
   "execution_count": null,
   "id": "5987a35f",
   "metadata": {},
   "outputs": [],
   "source": [
    "BATCH_SIZE = 1024\n",
    "dl = th.utils.data.DataLoader(ds_train, batch_size=BATCH_SIZE)\n",
    "for x, in dl:\n",
    "    break\n",
    "plt.matshow(x[0].cpu().numpy().reshape(28,28))\n",
    "plt.matshow(x[1].cpu().numpy().reshape(28,28))\n",
    "x.shape"
   ]
  },
  {
   "cell_type": "code",
   "execution_count": null,
   "id": "992e43cd",
   "metadata": {},
   "outputs": [],
   "source": [
    "dl_test = th.utils.data.DataLoader(ds_test, batch_size=16)\n",
    "\n",
    "for th_sample, in dl_test:\n",
    "    break"
   ]
  },
  {
   "cell_type": "code",
   "execution_count": null,
   "id": "12d198e4",
   "metadata": {},
   "outputs": [],
   "source": [
    "print(len(dl))\n",
    "print(x.device)"
   ]
  },
  {
   "cell_type": "code",
   "execution_count": null,
   "id": "89e35fee",
   "metadata": {},
   "outputs": [],
   "source": [
    "class SimpleAutoEncoder(th.nn.Module):\n",
    "    def __init__(self, inp_size, encoding=[512, 256], embedding_size=32):\n",
    "        super().__init__()\n",
    "        self.enc_layers = th.nn.ModuleList()\n",
    "        prev_units = inp_size\n",
    "        for units in encoding:\n",
    "            self.enc_layers.append(th.nn.Linear(prev_units, units))\n",
    "            self.enc_layers.append(th.nn.ReLU())\n",
    "            prev_units = units\n",
    "            \n",
    "        self.embedding = th.nn.Linear(prev_units, embedding_size)\n",
    "\n",
    "        prev_units = embedding_size\n",
    "        self.dec_layers = th.nn.ModuleList()\n",
    "        for units in reversed(encoding):\n",
    "            self.dec_layers.append(th.nn.Linear(prev_units, units))\n",
    "            prev_units = units\n",
    "            self.dec_layers.append(th.nn.ReLU())\n",
    "        \n",
    "        self.readout = th.nn.Linear(prev_units, inp_size)\n",
    "        return\n",
    "        \n",
    "    def encoder(self, inputs):\n",
    "        if len(inputs.shape) > 2: \n",
    "            # do NOT use this approach in real-life models.\n",
    "            # instead use pre-processing reshaping (via tv pre-proc pipeline or manual)\n",
    "            th_x = inputs.view(inputs.shape[0], -1)\n",
    "        else:\n",
    "            th_x = inputs\n",
    "            \n",
    "        for layer in self.enc_layers:\n",
    "            th_x = layer(th_x)\n",
    "        return self.embedding(th_x)\n",
    "    \n",
    "    def decoder(self, inputs):\n",
    "        th_x = inputs\n",
    "        for layer in self.dec_layers:\n",
    "            th_x = layer(th_x)\n",
    "        return self.readout(th_x)\n",
    "    \n",
    "    def forward(self, inputs):\n",
    "        th_x = self.encoder(inputs)\n",
    "        return self.decoder(th_x)\n",
    "    \n",
    "model = SimpleAutoEncoder(28*28).cuda()\n",
    "model        "
   ]
  },
  {
   "cell_type": "code",
   "execution_count": null,
   "id": "df1ca851",
   "metadata": {},
   "outputs": [],
   "source": [
    "plt.matshow(ds_test[1000][0].cpu().numpy().reshape(28,28))"
   ]
  },
  {
   "cell_type": "code",
   "execution_count": null,
   "id": "1d4cd0f9",
   "metadata": {},
   "outputs": [],
   "source": [
    "def th_eval(model):\n",
    "    model.eval()\n",
    "    with th.no_grad():\n",
    "        th_yh = model(th_sample)\n",
    "    plt.figure()\n",
    "    plt.subplot(121)    \n",
    "    gold_grid = tv.utils.make_grid(th_sample.view(16,1,28,28), nrow=4)\n",
    "    np_gold_img = gold_grid.cpu().numpy().transpose(1,2,0)    \n",
    "    plt.imshow(np_gold_img)\n",
    "    \n",
    "    plt.subplot(122)    \n",
    "    pred_grid = tv.utils.make_grid(th_yh.view(16,1,28,28), nrow=4)\n",
    "    np_pred_img = pred_grid.cpu().numpy().transpose(1,2,0)    \n",
    "    plt.imshow(np_pred_img)\n",
    "    plt.show()\n",
    "    model.train()"
   ]
  },
  {
   "cell_type": "code",
   "execution_count": null,
   "id": "1c498cdd",
   "metadata": {},
   "outputs": [],
   "source": [
    "th_eval(model)"
   ]
  },
  {
   "cell_type": "code",
   "execution_count": null,
   "id": "b223f9e9",
   "metadata": {
    "scrolled": false
   },
   "outputs": [],
   "source": [
    "loss_fn = th.nn.MSELoss()\n",
    "model = SimpleAutoEncoder(28*28).cuda()\n",
    "opt = th.optim.Adam(params=model.parameters(), lr=0.001)\n",
    "EPOCHS = 10\n",
    "th_l1 = next(model.parameters())\n",
    "for epoch in range(EPOCHS):\n",
    "    cnt = 0\n",
    "    for th_x_batch,  in dl:\n",
    "        cnt += 1\n",
    "        th_y_pred = model(th_x_batch)\n",
    "        opt.zero_grad()\n",
    "        th_loss = loss_fn(input=th_y_pred, target=th_x_batch.view(th_x_batch.shape[0], -1))\n",
    "        th_loss.backward()\n",
    "        opt.step()\n",
    "    th_eval(model, ds_test, idx=5000)"
   ]
  },
  {
   "cell_type": "code",
   "execution_count": null,
   "id": "1b82a508",
   "metadata": {
    "scrolled": false
   },
   "outputs": [],
   "source": [
    "loss_fn = th.nn.L1Loss()\n",
    "model = SimpleAutoEncoder(28*28).cuda()\n",
    "opt = th.optim.Adam(params=model.parameters(), lr=0.0001)\n",
    "EPOCHS = 10\n",
    "th_l1 = next(model.parameters())\n",
    "for epoch in range(EPOCHS):\n",
    "    cnt = 0\n",
    "    for th_x_batch,  in dl:\n",
    "        cnt += 1\n",
    "        th_y_pred = model(th_x_batch)\n",
    "        opt.zero_grad()\n",
    "        th_loss = loss_fn(input=th_y_pred, target=th_x_batch.view(th_x_batch.shape[0], -1))\n",
    "        th_loss.backward()\n",
    "        opt.step()\n",
    "    th_eval(model, ds_test, idx=5000)\n",
    "    \n",
    "        "
   ]
  },
  {
   "cell_type": "code",
   "execution_count": null,
   "id": "8b2e4daa",
   "metadata": {},
   "outputs": [],
   "source": [
    "# TODO:\n",
    "# add BCE\n",
    "# add dropout\n",
    "# test encoding\n",
    "# test decoding\n",
    "\n"
   ]
  },
  {
   "cell_type": "markdown",
   "id": "23aaf80b",
   "metadata": {},
   "source": [
    "## Denoising auto encoders"
   ]
  },
  {
   "cell_type": "code",
   "execution_count": null,
   "id": "9a8cb4fb",
   "metadata": {},
   "outputs": [],
   "source": [
    "class SimpleDenoiseAutoEncoder(th.nn.Module):\n",
    "    def __init__(self, inp_size, encoding=[512, 256], embedding_size=32, drop_rate=0.7):\n",
    "        super().__init__()\n",
    "        self.noise_layer = th.nn.Dropout(drop_rate)\n",
    "        self.enc_layers = th.nn.ModuleList()\n",
    "        prev_units = inp_size\n",
    "        for units in encoding:\n",
    "            self.enc_layers.append(th.nn.Linear(prev_units, units))\n",
    "            self.enc_layers.append(th.nn.ReLU())\n",
    "            prev_units = units\n",
    "        self.embedding = th.nn.Linear(prev_units, embedding_size)\n",
    "\n",
    "        prev_units = embedding_size\n",
    "        self.dec_layers = th.nn.ModuleList()\n",
    "        for units in reversed(encoding):\n",
    "            self.dec_layers.append(th.nn.Linear(prev_units, units))\n",
    "            prev_units = units\n",
    "            self.dec_layers.append(th.nn.ReLU())\n",
    "        \n",
    "        self.readout = th.nn.Linear(prev_units, inp_size)\n",
    "        return\n",
    "        \n",
    "    def encoder(self, inputs):\n",
    "        if len(inputs.shape) > 2: \n",
    "            # do NOT use this approach in real-life models.\n",
    "            # instead use pre-processing reshaping (via tv pre-proc pipeline or manual)\n",
    "            th_x = inputs.view(inputs.shape[0], -1)\n",
    "        else:\n",
    "            th_x = inputs\n",
    "        th_x = self.noise_layer(th_x)\n",
    "        for layer in self.enc_layers:\n",
    "            th_x = layer(th_x)\n",
    "        return self.embedding(th_x)\n",
    "    \n",
    "    def decoder(self, inputs):\n",
    "        th_x = inputs\n",
    "        for layer in self.dec_layers:\n",
    "            th_x = layer(th_x)\n",
    "        return self.readout(th_x)\n",
    "    \n",
    "    def forward(self, inputs):\n",
    "        th_x = self.encoder(inputs)\n",
    "        return self.decoder(th_x)\n",
    "model = SimpleDenoiseAutoEncoder(28*28).cuda()\n",
    "model        \n"
   ]
  },
  {
   "cell_type": "code",
   "execution_count": null,
   "id": "e7366046",
   "metadata": {
    "scrolled": false
   },
   "outputs": [],
   "source": [
    "loss_fn = th.nn.MSELoss()\n",
    "model = SimpleDenoiseAutoEncoder(28*28).cuda()\n",
    "opt = th.optim.Adam(params=model.parameters(), lr=0.001)\n",
    "EPOCHS = 20\n",
    "th_l1 = next(model.parameters())\n",
    "for epoch in range(EPOCHS):\n",
    "    cnt = 0\n",
    "    for th_x_batch,  in dl:\n",
    "        cnt += 1\n",
    "        th_y_pred = model(th_x_batch)\n",
    "        opt.zero_grad()\n",
    "        th_loss = loss_fn(input=th_y_pred, target=th_x_batch.view(th_x_batch.shape[0], -1))\n",
    "        th_loss.backward()\n",
    "        opt.step()\n",
    "    th_eval(model)"
   ]
  },
  {
   "cell_type": "code",
   "execution_count": null,
   "id": "26dd970f",
   "metadata": {},
   "outputs": [],
   "source": [
    "\n",
    "th_sample = th_sample.reshape(16,1,28,28)\n",
    "print(th_sample.shape)\n",
    "noise = np.random.choice([0,1], size=(16,1,28,28), p=[0.7, 0.3])\n",
    "th_bad_sample = th_sample * th.tensor(noise, device=th.device('cuda'))"
   ]
  },
  {
   "cell_type": "code",
   "execution_count": null,
   "id": "91cb18d5",
   "metadata": {},
   "outputs": [],
   "source": [
    "grid = tv.utils.make_grid(th_sample, nrow=4)\n",
    "bad_grid = tv.utils.make_grid(th_bad_sample, nrow=4)"
   ]
  },
  {
   "cell_type": "code",
   "execution_count": null,
   "id": "58ed99e9",
   "metadata": {},
   "outputs": [],
   "source": [
    "np_img = grid.cpu().numpy().transpose(1,2,0)\n",
    "np_bad_img= bad_grid.cpu().numpy().transpose(1,2,0)\n",
    "np_img.shape"
   ]
  },
  {
   "cell_type": "code",
   "execution_count": null,
   "id": "99e57036",
   "metadata": {},
   "outputs": [],
   "source": [
    "plt.figure(figsize=(13,8))\n",
    "plt.imshow(np_img)\n",
    "plt.figure(figsize=(13,8))\n",
    "plt.imshow(np_bad_img)"
   ]
  },
  {
   "cell_type": "code",
   "execution_count": null,
   "id": "4952fcda",
   "metadata": {},
   "outputs": [],
   "source": [
    "model.eval()\n",
    "with th.no_grad():\n",
    "    th_pred = model(th_bad_sample.view(16, 28*28))\n",
    "model.train()"
   ]
  },
  {
   "cell_type": "code",
   "execution_count": null,
   "id": "51f5b879",
   "metadata": {},
   "outputs": [],
   "source": [
    "pred_grid = tv.utils.make_grid(th_pred.view(16,1,28,28), nrow=4)\n",
    "np_pred_img = pred_grid.cpu().numpy().transpose(1,2,0)\n",
    "plt.figure(figsize=(13,8))\n",
    "plt.imshow(np_pred_img)"
   ]
  },
  {
   "cell_type": "code",
   "execution_count": null,
   "id": "838c76af",
   "metadata": {},
   "outputs": [],
   "source": [
    "ds_test[:100][0].shape"
   ]
  },
  {
   "cell_type": "code",
   "execution_count": null,
   "id": "fe2c5a9c",
   "metadata": {},
   "outputs": [],
   "source": [
    "# TODO:\n",
    "# add BCE\n",
    "# add dropout\n",
    "# test encoding\n",
    "# test decoding"
   ]
  }
 ],
 "metadata": {
  "kernelspec": {
   "display_name": "Python 3 (ipykernel)",
   "language": "python",
   "name": "python3"
  },
  "language_info": {
   "codemirror_mode": {
    "name": "ipython",
    "version": 3
   },
   "file_extension": ".py",
   "mimetype": "text/x-python",
   "name": "python",
   "nbconvert_exporter": "python",
   "pygments_lexer": "ipython3",
   "version": "3.8.13"
  }
 },
 "nbformat": 4,
 "nbformat_minor": 5
}
