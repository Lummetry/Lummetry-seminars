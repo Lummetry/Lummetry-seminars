{
 "cells": [
  {
   "cell_type": "code",
   "execution_count": 5,
   "id": "9a762858",
   "metadata": {},
   "outputs": [],
   "source": [
    "import torch as th\n",
    "import torchvision as tv\n",
    "import numpy as np\n",
    "import matplotlib.pyplot as plt\n",
    "%matplotlib inline"
   ]
  },
  {
   "cell_type": "code",
   "execution_count": 6,
   "id": "ac72098e",
   "metadata": {},
   "outputs": [],
   "source": [
    "ds_train = tv.datasets.MNIST(root='.', download=True)\n",
    "ds_test = tv.datasets.MNIST(root='.', train=False, download=True)"
   ]
  },
  {
   "cell_type": "code",
   "execution_count": 7,
   "id": "1e1aeeb9",
   "metadata": {},
   "outputs": [],
   "source": [
    "np_x_train = np.array([np.array(x[0]) for x in ds_train])\n",
    "np_x_test = np.array([np.array(x[0]) for x in ds_test])\n",
    "np_x_train = np_x_train / 255.\n",
    "np_x_test = np_x_test / 255.\n",
    "\n",
    "# re-prep the datasets\n",
    "ds_train = th.utils.data.TensorDataset(th.tensor(np_x_train.reshape(-1,28*28), device=th.device('cuda'), dtype=th.float32))\n",
    "ds_test = th.utils.data.TensorDataset(th.tensor(np_x_test.reshape(-1,28*28), device=th.device('cuda'), dtype=th.float32))"
   ]
  },
  {
   "cell_type": "code",
   "execution_count": 8,
   "id": "02c9124f",
   "metadata": {},
   "outputs": [
    {
     "data": {
      "text/plain": [
       "torch.Size([256, 784])"
      ]
     },
     "execution_count": 8,
     "metadata": {},
     "output_type": "execute_result"
    },
    {
     "data": {
      "image/png": "[encoded data removed]",
      "text/plain": [
       "<Figure size 288x288 with 1 Axes>"
      ]
     },
     "metadata": {
      "needs_background": "light"
     },
     "output_type": "display_data"
    }
   ],
   "source": [
    "BATCH_SIZE = 256\n",
    "dl = th.utils.data.DataLoader(ds_train, batch_size=BATCH_SIZE)\n",
    "for x, in dl:\n",
    "    break\n",
    "plt.matshow(x[0].cpu().numpy().reshape(28,28))\n",
    "x.shape"
   ]
  },
  {
   "cell_type": "markdown",
   "id": "e0e98a6e",
   "metadata": {},
   "source": [
    "***\n",
    "$\\mathbf{\\text{Gradient Tree Boosting Algorithm}}$<br>\n",
    "***\n",
    "$$f_{0}(x) = \\textrm{arg min}_{\\gamma} \\sum \\limits _{i=1} ^{N} L(y_{i}, \\gamma)$$\n",
    "\n",
    "1.&emsp;Initialize model with a constant value $$f_{0}(x) = \\textrm{arg min}_{\\gamma} \\sum \\limits _{i=1} ^{N} L(y_{i}, \\gamma)$$\n",
    "2.&emsp;For m = 1 to M:<br>\n",
    "&emsp;&emsp;(a)&emsp;For $i = 1,2,...,N$ compute<br>\n",
    "    $$r_{im} = - \\displaystyle \\Bigg[\\frac{\\partial L(y_{i}, f(x_{i}))}{\\partial f(x_{i})}\\Bigg]_{f=f_{m−1}}$$\n",
    "&emsp;&emsp;(b)&emsp;Fit a regression tree to the targets $r_{im}$ giving terminal regions<br>\n",
    "&emsp;&emsp;&emsp;&emsp;$R_{jm}, j = 1, 2, . . . , J_{m}.$<br><br>\n",
    "&emsp;&emsp;(c)&emsp;For $j = 1, 2, . . . , J_{m}$ compute<br>\n",
    "$$\\gamma_{jm} = \\underset{\\gamma}{\\textrm{arg min}} \\sum \\limits _{x_{i} \\in R_{jm}} L(y_{i}, f_{m−1}(x_{i}) + \\gamma)$$\n",
    "<br>\n",
    "&emsp;&emsp;(d)&emsp;Update $f_{m}(x) = f_{m−1}(x) + \\sum _{j=1} ^{J_{m}} \\gamma_{jm} I(x \\in R_{jm})$<br><br>\n",
    "3. Output $\\hat{f}(x) = f_{M}(x)$\n",
    "***"
   ]
  },
  {
   "cell_type": "markdown",
   "id": "ee19f1b0",
   "metadata": {},
   "source": [
    "***\n",
    "$\\mathbf{\\text{KL Reminder}}$<br>\n",
    "***\n",
    "$$KL = \\textrm{arg min}_{\\gamma} \\sum \\limits _{i=1} ^{N} L(y_{i}, \\gamma)$$\n",
    "$$KL(D_1,D_2) = \\log (\\frac{s_2}{s_1}) + \\frac {1}{2} \\frac {s_1^2 +(m_1 - m_2)^2} {s_2^2} - \\frac{1}{2}$$\n",
    "\n",
    "\n",
    "      if target is N(0,1) then s2 = 1 m2 = 0 then\n",
    "       KL_Loss = 0 - log(s1) + 0.5 * (s1**2 + m1**2) - 0.5\n",
    "       KL_loss = -0.5 * ( 2*log(s1) - s1**2 - m1**2 + 1)\n",
    "       or when targeting the std instead of variance\n",
    "       KL_loss = -0.5 * (log(s1) - s1 - m1**2 + 1)\n",
    "         in this case z = rnd * s1 + m1\n",
    "       or (targeting log_of_s1)\n",
    "       KL_loss = -0.5 * (s1_ln - e**s1_ln - m1**2 + 1)\n",
    "         in this case the z = rnd * e**(s1_ln/2) + m1"
   ]
  },
  {
   "cell_type": "code",
   "execution_count": null,
   "id": "45047829",
   "metadata": {},
   "outputs": [],
   "source": [
    "class SimpleVAE(th.nn.Module):\n",
    "    def __init__(self, inp_size, encoding=[512, 256], embedding_size=32):\n",
    "        super().__init__()\n",
    "        self.enc_layers = th.nn.ModuleList()\n",
    "        prev_units = inp_size\n",
    "        for units in encoding:\n",
    "            self.enc_layers.append(th.nn.Linear(prev_units, units))\n",
    "            self.enc_layers.append(th.nn.ReLU())\n",
    "            prev_units = units\n",
    "        \n",
    "        # Here the stuff gets a bit more complicated than `self.embedding = th.nn.Linear(prev_units, embedding_size)`\n",
    "\n",
    "        prev_units = embedding_size\n",
    "        self.dec_layers = th.nn.ModuleList()\n",
    "        for units in reversed(encoding):\n",
    "            self.dec_layers.append(th.nn.Linear(prev_units, units))\n",
    "            prev_units = units\n",
    "            self.dec_layers.append(th.nn.ReLU())\n",
    "        \n",
    "        self.readout = th.nn.Linear(prev_units, inp_size)\n",
    "        return\n",
    "        \n",
    "    def encoder(self, inputs):\n",
    "        if len(inputs.shape) > 2: \n",
    "            # do NOT use this approach in real-life models.\n",
    "            # instead use pre-processing reshaping (via tv pre-proc pipeline or manual)\n",
    "            th_x = inputs.view(inputs.shape[0], -1)\n",
    "        else:\n",
    "            th_x = inputs\n",
    "            \n",
    "        for layer in self.enc_layers:\n",
    "            th_x = layer(th_x)\n",
    "        return self.embedding(th_x)\n",
    "    \n",
    "    def decoder(self, inputs):\n",
    "        th_x = inputs\n",
    "        for layer in self.dec_layers:\n",
    "            th_x = layer(th_x)\n",
    "        return self.readout(th_x)\n",
    "    \n",
    "    def forward(self, inputs):\n",
    "        th_x = self.encoder(inputs)\n",
    "        th_x = None # again the stuff gets a bit complicated\n",
    "        th_x = self.decoder(th_x)\n",
    "        \n",
    "model = SimpleAutoEncoder(28*28).cuda()\n",
    "model        \n",
    "        "
   ]
  }
 ],
 "metadata": {
  "kernelspec": {
   "display_name": "Python 3 (ipykernel)",
   "language": "python",
   "name": "python3"
  },
  "language_info": {
   "codemirror_mode": {
    "name": "ipython",
    "version": 3
   },
   "file_extension": ".py",
   "mimetype": "text/x-python",
   "name": "python",
   "nbconvert_exporter": "python",
   "pygments_lexer": "ipython3",
   "version": "3.8.13"
  }
 },
 "nbformat": 4,
 "nbformat_minor": 5
}
