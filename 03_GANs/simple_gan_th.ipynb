{
 "cells": [
  {
   "cell_type": "code",
   "execution_count": null,
   "id": "853b3e4e",
   "metadata": {},
   "outputs": [],
   "source": [
    "import torch as th\n",
    "import torchvision as tv\n",
    "import numpy as np\n",
    "import matplotlib.pyplot as plt\n",
    "%matplotlib inline"
   ]
  },
  {
   "cell_type": "code",
   "execution_count": null,
   "id": "86f92de2",
   "metadata": {},
   "outputs": [],
   "source": [
    "ds_train = tv.datasets.MNIST(root='.', download=True)\n",
    "ds_test = tv.datasets.MNIST(root='.', train=False, download=True)"
   ]
  },
  {
   "cell_type": "code",
   "execution_count": null,
   "id": "d88ef5e3",
   "metadata": {},
   "outputs": [],
   "source": [
    "np_x_train = np.array([np.array(x[0]) for x in ds_train])\n",
    "np_x_test = np.array([np.array(x[0]) for x in ds_test])\n",
    "np_x_train = np_x_train / 255.\n",
    "np_x_test = np_x_test / 255.\n",
    "\n",
    "# re-prep the datasets\n",
    "ds_train = th.utils.data.TensorDataset(th.tensor(np_x_train.reshape(-1,28*28), device=th.device('cuda'), dtype=th.float32))\n",
    "ds_test = th.utils.data.TensorDataset(th.tensor(np_x_test.reshape(-1,28*28), device=th.device('cuda'), dtype=th.float32))"
   ]
  },
  {
   "cell_type": "code",
   "execution_count": null,
   "id": "0c5c1740",
   "metadata": {},
   "outputs": [],
   "source": [
    "BATCH_SIZE = 1024\n",
    "dl = th.utils.data.DataLoader(ds_train, batch_size=BATCH_SIZE)\n",
    "dl_test = th.utils.data.DataLoader(ds_test, batch_size=16)\n",
    "for x, in dl:\n",
    "    break\n",
    "plt.matshow(x[0].cpu().numpy().reshape(28,28))\n",
    "x.shape\n",
    "for th_x_test, in dl_test:\n",
    "    break"
   ]
  }
 ],
 "metadata": {
  "kernelspec": {
   "display_name": "Python 3 (ipykernel)",
   "language": "python",
   "name": "python3"
  },
  "language_info": {
   "codemirror_mode": {
    "name": "ipython",
    "version": 3
   },
   "file_extension": ".py",
   "mimetype": "text/x-python",
   "name": "python",
   "nbconvert_exporter": "python",
   "pygments_lexer": "ipython3",
   "version": "3.8.13"
  }
 },
 "nbformat": 4,
 "nbformat_minor": 5
}
